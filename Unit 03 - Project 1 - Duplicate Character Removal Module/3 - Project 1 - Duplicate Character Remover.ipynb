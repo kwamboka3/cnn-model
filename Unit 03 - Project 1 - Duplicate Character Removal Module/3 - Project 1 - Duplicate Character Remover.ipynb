{
 "cells": [
  {
   "cell_type": "code",
   "execution_count": null,
   "metadata": {},
   "outputs": [],
   "source": [
    "import re"
   ]
  },
  {
   "cell_type": "code",
   "execution_count": null,
   "metadata": {},
   "outputs": [],
   "source": [
    "old_word = 'finaaallllllyyyyy'\n",
    "old_word"
   ]
  },
  {
   "cell_type": "code",
   "execution_count": null,
   "metadata": {},
   "outputs": [],
   "source": [
    "repeat_pattern = re.compile(r'(\\w*)(\\w)\\2')\n",
    "repeat_pattern.search(old_word).groups()"
   ]
  },
  {
   "cell_type": "code",
   "execution_count": null,
   "metadata": {},
   "outputs": [],
   "source": [
    "match_substitution = r'\\1\\2'"
   ]
  },
  {
   "cell_type": "code",
   "execution_count": null,
   "metadata": {},
   "outputs": [],
   "source": [
    "step = 1\n",
    "while True:\n",
    "    # remove one repeated character\n",
    "    new_word = repeat_pattern.sub(match_substitution,\n",
    "                                  old_word)\n",
    "    if new_word != old_word:\n",
    "         print('Step: {} Word: {}'.format(step, new_word))\n",
    "         step += 1 # update step\n",
    "         # update old word to last substituted state\n",
    "         old_word = new_word  \n",
    "         continue\n",
    "    else:\n",
    "         print(\"Final word:\", new_word)\n",
    "         break"
   ]
  },
  {
   "cell_type": "markdown",
   "metadata": {},
   "source": [
    "## Your Turn: Build a function to remove duplicate characters\n",
    "\n",
    "Now that you know the general idea of how to remove duplicate characters, build a function using the following steps which should remove all repeated characters.\n",
    "\n",
    "- Function is named __`remove_repeated_characters(word)`__\n",
    "- Takes input a single word (string)\n",
    "- Returns an output string with all repeated characters removed"
   ]
  },
  {
   "cell_type": "code",
   "execution_count": null,
   "metadata": {},
   "outputs": [],
   "source": [
    "REPEAT_PATTERN = re.compile(r'(\\w*)(\\w)\\2')\n",
    "MATCH_SUBSTITUTION = r'\\1\\2'\n",
    "\n",
    "def remove_repeated_characters(word):\n",
    "    ______"
   ]
  },
  {
   "cell_type": "code",
   "execution_count": null,
   "metadata": {},
   "outputs": [],
   "source": [
    "s = 'finaaallllllyyyyy'\n",
    "s"
   ]
  },
  {
   "cell_type": "code",
   "execution_count": null,
   "metadata": {},
   "outputs": [],
   "source": [
    "remove_repeated_characters(s)"
   ]
  },
  {
   "cell_type": "markdown",
   "metadata": {},
   "source": [
    "## Your Turn: Build a function which can take in a sentence and remove duplicate characters from each word\n",
    "\n",
    "- Function is named __`duplicate_char_remover(sentence)`__\n",
    "- Takes input a sentence (string)\n",
    "- Returns an output string with all repeated characters removed from each word\n",
    "- Think about tokenizing the sentence"
   ]
  },
  {
   "cell_type": "code",
   "execution_count": null,
   "metadata": {},
   "outputs": [],
   "source": [
    "import nltk\n",
    "\n",
    "def duplicate_char_remover(sentence):\n",
    "    # tokenize sentences using nltk\n",
    "    ______\n",
    "    # remove repeated characters from each token and re-create a sentence using join\n",
    "    final_sentence = _______\n",
    "    return final_sentence"
   ]
  },
  {
   "cell_type": "code",
   "execution_count": null,
   "metadata": {},
   "outputs": [],
   "source": [
    "s = 'Myyy SchOOOoLLLlll is realllllyyy amaaaazzing'\n",
    "duplicate_char_remover(s)"
   ]
  },
  {
   "cell_type": "code",
   "execution_count": null,
   "metadata": {},
   "outputs": [],
   "source": [
    "from nltk.corpus import wordnet\n",
    "\n",
    "print(wordnet.synsets('schol'))\n",
    "print()\n",
    "print(wordnet.synsets('school'))"
   ]
  },
  {
   "cell_type": "markdown",
   "metadata": {},
   "source": [
    "## Your turn: Modify the above functions to try and get dictionary correct words "
   ]
  },
  {
   "cell_type": "code",
   "execution_count": null,
   "metadata": {},
   "outputs": [],
   "source": [
    "from nltk.corpus import wordnet\n",
    "\n",
    "def remove_repeated_characters(word):\n",
    "    _____\n",
    "\n",
    "def duplicate_char_remover(sentence):\n",
    "    _____"
   ]
  },
  {
   "cell_type": "code",
   "execution_count": null,
   "metadata": {},
   "outputs": [],
   "source": [
    "s"
   ]
  },
  {
   "cell_type": "code",
   "execution_count": null,
   "metadata": {},
   "outputs": [],
   "source": [
    "duplicate_char_remover(s)"
   ]
  }
 ],
 "metadata": {
  "kernelspec": {
   "display_name": "Python 3",
   "language": "python",
   "name": "python3"
  },
  "language_info": {
   "codemirror_mode": {
    "name": "ipython",
    "version": 3
   },
   "file_extension": ".py",
   "mimetype": "text/x-python",
   "name": "python",
   "nbconvert_exporter": "python",
   "pygments_lexer": "ipython3",
   "version": "3.6.5"
  }
 },
 "nbformat": 4,
 "nbformat_minor": 2
}
