{
 "cells": [
  {
   "cell_type": "code",
   "execution_count": 1,
   "metadata": {
    "collapsed": true
   },
   "outputs": [],
   "source": [
    "import re"
   ]
  },
  {
   "cell_type": "code",
   "execution_count": 2,
   "metadata": {},
   "outputs": [
    {
     "data": {
      "text/plain": [
       "'finaaallllllyyyyy'"
      ]
     },
     "execution_count": 2,
     "metadata": {},
     "output_type": "execute_result"
    }
   ],
   "source": [
    "old_word = 'finaaallllllyyyyy'\n",
    "old_word"
   ]
  },
  {
   "cell_type": "code",
   "execution_count": 3,
   "metadata": {},
   "outputs": [
    {
     "data": {
      "text/plain": [
       "('finaaallllllyyy', 'y')"
      ]
     },
     "execution_count": 3,
     "metadata": {},
     "output_type": "execute_result"
    }
   ],
   "source": [
    "repeat_pattern = re.compile(r'(\\w*)(\\w)\\2')\n",
    "repeat_pattern.search(old_word).groups()"
   ]
  },
  {
   "cell_type": "code",
   "execution_count": 4,
   "metadata": {
    "collapsed": true
   },
   "outputs": [],
   "source": [
    "match_substitution = r'\\1\\2'"
   ]
  },
  {
   "cell_type": "code",
   "execution_count": 5,
   "metadata": {},
   "outputs": [
    {
     "name": "stdout",
     "output_type": "stream",
     "text": [
      "Step: 1 Word: finaaallllllyyyy\n",
      "Step: 2 Word: finaaallllllyyy\n",
      "Step: 3 Word: finaaallllllyy\n",
      "Step: 4 Word: finaaalllllly\n",
      "Step: 5 Word: finaaallllly\n",
      "Step: 6 Word: finaaalllly\n",
      "Step: 7 Word: finaaallly\n",
      "Step: 8 Word: finaaally\n",
      "Step: 9 Word: finaaaly\n",
      "Step: 10 Word: finaaly\n",
      "Step: 11 Word: finaly\n",
      "Final word: finaly\n"
     ]
    }
   ],
   "source": [
    "step = 1\n",
    "while True:\n",
    "    # remove one repeated character\n",
    "    new_word = repeat_pattern.sub(match_substitution,\n",
    "                                  old_word)\n",
    "    if new_word != old_word:\n",
    "         print('Step: {} Word: {}'.format(step, new_word))\n",
    "         step += 1 # update step\n",
    "         # update old word to last substituted state\n",
    "         old_word = new_word  \n",
    "         continue\n",
    "    else:\n",
    "         print(\"Final word:\", new_word)\n",
    "         break"
   ]
  },
  {
   "cell_type": "markdown",
   "metadata": {},
   "source": [
    "## Your Turn: Build a function to remove duplicate characters\n",
    "\n",
    "Now that you know the general idea of how to remove duplicate characters, build a function using the following steps which should remove all repeated characters.\n",
    "\n",
    "- Function is named __`remove_repeated_characters(word)`__\n",
    "- Takes input a single word (string)\n",
    "- Returns an output string with all repeated characters removed"
   ]
  },
  {
   "cell_type": "code",
   "execution_count": 6,
   "metadata": {
    "collapsed": true
   },
   "outputs": [],
   "source": [
    "REPEAT_PATTERN = re.compile(r'(\\w*)(\\w)\\2')\n",
    "MATCH_SUBSTITUTION = r'\\1\\2'\n",
    "\n",
    "def remove_repeated_characters(word):\n",
    "    new_word = REPEAT_PATTERN.sub(MATCH_SUBSTITUTION, word)\n",
    "    return (remove_repeated_characters(new_word) \n",
    "               if new_word != word else new_word)"
   ]
  },
  {
   "cell_type": "code",
   "execution_count": 7,
   "metadata": {},
   "outputs": [
    {
     "data": {
      "text/plain": [
       "'finaaallllllyyyyy'"
      ]
     },
     "execution_count": 7,
     "metadata": {},
     "output_type": "execute_result"
    }
   ],
   "source": [
    "s = 'finaaallllllyyyyy'\n",
    "s"
   ]
  },
  {
   "cell_type": "code",
   "execution_count": 8,
   "metadata": {},
   "outputs": [
    {
     "data": {
      "text/plain": [
       "'finaly'"
      ]
     },
     "execution_count": 8,
     "metadata": {},
     "output_type": "execute_result"
    }
   ],
   "source": [
    "remove_repeated_characters(s)"
   ]
  },
  {
   "cell_type": "markdown",
   "metadata": {},
   "source": [
    "## Your Turn: Build a function which can take in a sentence and remove duplicate characters from each word\n",
    "\n",
    "- Function is named __`duplicate_char_remover(sentence)`__\n",
    "- Takes input a sentence (string)\n",
    "- Returns an output string with all repeated characters removed from each word\n",
    "- Think about tokenizing the sentence"
   ]
  },
  {
   "cell_type": "code",
   "execution_count": 9,
   "metadata": {
    "collapsed": true
   },
   "outputs": [],
   "source": [
    "import nltk\n",
    "\n",
    "def duplicate_char_remover(sentence):\n",
    "    # tokenize sentences using nltk\n",
    "    tokens = nltk.word_tokenize(sentence)\n",
    "    # remove repeated characters from each token and re-create a sentence using join\n",
    "    final_sentence = ' '.join(remove_repeated_characters(word.lower()) \n",
    "                                  for word in tokens)\n",
    "    return final_sentence"
   ]
  },
  {
   "cell_type": "code",
   "execution_count": 10,
   "metadata": {},
   "outputs": [
    {
     "data": {
      "text/plain": [
       "'my schol is realy amazing'"
      ]
     },
     "execution_count": 10,
     "metadata": {},
     "output_type": "execute_result"
    }
   ],
   "source": [
    "s = 'Myyy SchOOOoLLLlll is realllllyyy amaaaazzing'\n",
    "duplicate_char_remover(s)"
   ]
  },
  {
   "cell_type": "code",
   "execution_count": 11,
   "metadata": {},
   "outputs": [
    {
     "name": "stdout",
     "output_type": "stream",
     "text": [
      "[]\n",
      "\n",
      "[Synset('school.n.01'), Synset('school.n.02'), Synset('school.n.03'), Synset('school.n.04'), Synset('school.n.05'), Synset('school.n.06'), Synset('school.n.07'), Synset('school.v.01'), Synset('educate.v.03'), Synset('school.v.03')]\n"
     ]
    }
   ],
   "source": [
    "from nltk.corpus import wordnet\n",
    "\n",
    "print(wordnet.synsets('schol'))\n",
    "print()\n",
    "print(wordnet.synsets('school'))"
   ]
  },
  {
   "cell_type": "markdown",
   "metadata": {},
   "source": [
    "## Your turn: Modify the above functions to try and get dictionary correct words "
   ]
  },
  {
   "cell_type": "code",
   "execution_count": 12,
   "metadata": {
    "collapsed": true
   },
   "outputs": [],
   "source": [
    "from nltk.corpus import wordnet\n",
    "\n",
    "def remove_repeated_characters(word):\n",
    "    if wordnet.synsets(word):\n",
    "        return word\n",
    "    new_word = REPEAT_PATTERN.sub(MATCH_SUBSTITUTION, word)\n",
    "    return (remove_repeated_characters(new_word) \n",
    "               if new_word != word else new_word)\n",
    "\n",
    "def duplicate_char_remover(sentence):\n",
    "    tokens = nltk.word_tokenize(sentence)\n",
    "    final_sentence = ' '.join(remove_repeated_characters(word.lower()) \n",
    "                                  for word in tokens)\n",
    "    return final_sentence"
   ]
  },
  {
   "cell_type": "code",
   "execution_count": 13,
   "metadata": {},
   "outputs": [
    {
     "data": {
      "text/plain": [
       "'Myyy SchOOOoLLLlll is realllllyyy amaaaazzing'"
      ]
     },
     "execution_count": 13,
     "metadata": {},
     "output_type": "execute_result"
    }
   ],
   "source": [
    "s"
   ]
  },
  {
   "cell_type": "code",
   "execution_count": 14,
   "metadata": {},
   "outputs": [
    {
     "data": {
      "text/plain": [
       "'my school is really amazing'"
      ]
     },
     "execution_count": 14,
     "metadata": {},
     "output_type": "execute_result"
    }
   ],
   "source": [
    "duplicate_char_remover(s)"
   ]
  }
 ],
 "metadata": {
  "kernelspec": {
   "display_name": "Python 3",
   "language": "python",
   "name": "python3"
  },
  "language_info": {
   "codemirror_mode": {
    "name": "ipython",
    "version": 3
   },
   "file_extension": ".py",
   "mimetype": "text/x-python",
   "name": "python",
   "nbconvert_exporter": "python",
   "pygments_lexer": "ipython3",
   "version": "3.6.5"
  }
 },
 "nbformat": 4,
 "nbformat_minor": 2
}
