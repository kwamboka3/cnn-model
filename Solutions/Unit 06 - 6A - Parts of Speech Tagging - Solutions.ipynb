{
 "cells": [
  {
   "cell_type": "markdown",
   "metadata": {},
   "source": [
    "# Parts of Speech Tagging\n",
    "\n",
    "Source: https://towardsdatascience.com/a-practitioners-guide-to-natural-language-processing-part-i-processing-understanding-text-9f4abfd13e72\n",
    "\n",
    "For any language, syntax and structure usually go hand in hand, where a set of specific rules, conventions, and principles govern the way words are combined into phrases; phrases get combines into clauses; and clauses get combined into sentences. \n",
    "\n",
    "Knowledge about the structure and syntax of language is helpful in many areas like text processing, annotation, and parsing for further operations such as text classification or summarization.\n",
    "\n",
    "__Parts of speech (POS)__ are specific lexical categories to which words are assigned, based on their syntactic context and role. Usually, words can fall into one of the following major categories.\n",
    "\n",
    "+ __N(oun)__: This usually denotes words that depict some object or entity, which may be living or nonliving. Some examples would be fox , dog , book , and so on. The POS tag symbol for nouns is N.\n",
    "\n",
    "+ __V(erb)__: Verbs are words that are used to describe certain actions, states, or occurrences. There are a wide variety of further subcategories, such as auxiliary, reflexive, and transitive verbs (and many more). Some typical examples of verbs would be running , jumping , read , and write . The POS tag symbol for verbs is V.\n",
    "\n",
    "+ __Adj(ective)__: Adjectives are words used to describe or qualify other words, typically nouns and noun phrases. The phrase beautiful flower has the noun (N) flower which is described or qualified using the adjective (ADJ) beautiful . The POS tag symbol for adjectives is ADJ .\n",
    "\n",
    "+ __Adv(erb)__: Adverbs usually act as modifiers for other words including nouns, adjectives, verbs, or other adverbs. The phrase very beautiful flower has the adverb (ADV) very , which modifies the adjective (ADJ) beautiful , indicating the degree to which the flower is beautiful. The POS tag symbol for adverbs is ADV.\n",
    "\n",
    "Besides these four major categories of parts of speech , there are other categories that occur frequently in the English language. These include pronouns, prepositions, interjections, conjunctions, determiners, and many others. Furthermore, each POS tag like the noun (N) can be further subdivided into categories like __singular nouns (NN)__, __singular proper nouns (NNP)__, and __plural nouns (NNS)__.\n",
    "\n",
    "The process of classifying and labeling POS tags for words called parts of speech tagging or POS tagging . "
   ]
  },
  {
   "cell_type": "code",
   "execution_count": 5,
   "metadata": {},
   "outputs": [
    {
     "data": {
      "text/plain": [
       "'This NLP Workshop is being organized by Analytics Vidhya as part of the DataHack Summit 2018'"
      ]
     },
     "execution_count": 5,
     "metadata": {},
     "output_type": "execute_result"
    }
   ],
   "source": [
    "sentence = 'This NLP Workshop is being organized by Analytics Vidhya as part of the DataHack Summit 2018'\n",
    "sentence"
   ]
  },
  {
   "cell_type": "code",
   "execution_count": 6,
   "metadata": {},
   "outputs": [
    {
     "data": {
      "text/plain": [
       "[('This', 'DT'),\n",
       " ('NLP', 'NNP'),\n",
       " ('Workshop', 'NNP'),\n",
       " ('is', 'VBZ'),\n",
       " ('being', 'VBG'),\n",
       " ('organized', 'VBN'),\n",
       " ('by', 'IN'),\n",
       " ('Analytics', 'NNS'),\n",
       " ('Vidhya', 'NNP'),\n",
       " ('as', 'IN'),\n",
       " ('part', 'NN'),\n",
       " ('of', 'IN'),\n",
       " ('the', 'DT'),\n",
       " ('DataHack', 'NNP'),\n",
       " ('Summit', 'NNP'),\n",
       " ('2018', 'CD')]"
      ]
     },
     "execution_count": 6,
     "metadata": {},
     "output_type": "execute_result"
    }
   ],
   "source": [
    "import nltk\n",
    "\n",
    "nltk_pos_tagged = nltk.pos_tag(nltk.word_tokenize(sentence))\n",
    "nltk_pos_tagged"
   ]
  },
  {
   "cell_type": "code",
   "execution_count": 7,
   "metadata": {},
   "outputs": [
    {
     "data": {
      "text/html": [
       "<div>\n",
       "<style scoped>\n",
       "    .dataframe tbody tr th:only-of-type {\n",
       "        vertical-align: middle;\n",
       "    }\n",
       "\n",
       "    .dataframe tbody tr th {\n",
       "        vertical-align: top;\n",
       "    }\n",
       "\n",
       "    .dataframe thead th {\n",
       "        text-align: right;\n",
       "    }\n",
       "</style>\n",
       "<table border=\"1\" class=\"dataframe\">\n",
       "  <thead>\n",
       "    <tr style=\"text-align: right;\">\n",
       "      <th></th>\n",
       "      <th>0</th>\n",
       "      <th>1</th>\n",
       "      <th>2</th>\n",
       "      <th>3</th>\n",
       "      <th>4</th>\n",
       "      <th>5</th>\n",
       "      <th>6</th>\n",
       "      <th>7</th>\n",
       "      <th>8</th>\n",
       "      <th>9</th>\n",
       "      <th>10</th>\n",
       "      <th>11</th>\n",
       "      <th>12</th>\n",
       "      <th>13</th>\n",
       "      <th>14</th>\n",
       "      <th>15</th>\n",
       "    </tr>\n",
       "  </thead>\n",
       "  <tbody>\n",
       "    <tr>\n",
       "      <th>Word</th>\n",
       "      <td>This</td>\n",
       "      <td>NLP</td>\n",
       "      <td>Workshop</td>\n",
       "      <td>is</td>\n",
       "      <td>being</td>\n",
       "      <td>organized</td>\n",
       "      <td>by</td>\n",
       "      <td>Analytics</td>\n",
       "      <td>Vidhya</td>\n",
       "      <td>as</td>\n",
       "      <td>part</td>\n",
       "      <td>of</td>\n",
       "      <td>the</td>\n",
       "      <td>DataHack</td>\n",
       "      <td>Summit</td>\n",
       "      <td>2018</td>\n",
       "    </tr>\n",
       "    <tr>\n",
       "      <th>POS tag</th>\n",
       "      <td>DT</td>\n",
       "      <td>NNP</td>\n",
       "      <td>NNP</td>\n",
       "      <td>VBZ</td>\n",
       "      <td>VBG</td>\n",
       "      <td>VBN</td>\n",
       "      <td>IN</td>\n",
       "      <td>NNS</td>\n",
       "      <td>NNP</td>\n",
       "      <td>IN</td>\n",
       "      <td>NN</td>\n",
       "      <td>IN</td>\n",
       "      <td>DT</td>\n",
       "      <td>NNP</td>\n",
       "      <td>NNP</td>\n",
       "      <td>CD</td>\n",
       "    </tr>\n",
       "  </tbody>\n",
       "</table>\n",
       "</div>"
      ],
      "text/plain": [
       "           0    1         2    3      4          5   6          7       8   \\\n",
       "Word     This  NLP  Workshop   is  being  organized  by  Analytics  Vidhya   \n",
       "POS tag    DT  NNP       NNP  VBZ    VBG        VBN  IN        NNS     NNP   \n",
       "\n",
       "         9     10  11   12        13      14    15  \n",
       "Word     as  part  of  the  DataHack  Summit  2018  \n",
       "POS tag  IN    NN  IN   DT       NNP     NNP    CD  "
      ]
     },
     "execution_count": 7,
     "metadata": {},
     "output_type": "execute_result"
    }
   ],
   "source": [
    "import pandas as pd\n",
    "\n",
    "pd.DataFrame(nltk_pos_tagged, \n",
    "             columns=['Word', 'POS tag']).T"
   ]
  },
  {
   "cell_type": "code",
   "execution_count": 10,
   "metadata": {},
   "outputs": [],
   "source": [
    "import spacy\n",
    "\n",
    "nlp = spacy.load('en', parse=False, tag=False, entity=False)"
   ]
  },
  {
   "cell_type": "code",
   "execution_count": 9,
   "metadata": {},
   "outputs": [
    {
     "data": {
      "text/plain": [
       "[(This, 'DT', 'DET'),\n",
       " (NLP, 'NNP', 'PROPN'),\n",
       " (Workshop, 'NNP', 'PROPN'),\n",
       " (is, 'VBZ', 'VERB'),\n",
       " (being, 'VBG', 'VERB'),\n",
       " (organized, 'VBN', 'VERB'),\n",
       " (by, 'IN', 'ADP'),\n",
       " (Analytics, 'NNP', 'PROPN'),\n",
       " (Vidhya, 'NNP', 'PROPN'),\n",
       " (as, 'IN', 'ADP'),\n",
       " (part, 'NN', 'NOUN'),\n",
       " (of, 'IN', 'ADP'),\n",
       " (the, 'DT', 'DET'),\n",
       " (DataHack, 'NNP', 'PROPN'),\n",
       " (Summit, 'NNP', 'PROPN'),\n",
       " (2018, 'CD', 'NUM')]"
      ]
     },
     "execution_count": 9,
     "metadata": {},
     "output_type": "execute_result"
    }
   ],
   "source": [
    "sentence_nlp = nlp(sentence)\n",
    "spacy_pos_tagged = [(word, word.tag_, word.pos_) for word in sentence_nlp]\n",
    "spacy_pos_tagged"
   ]
  },
  {
   "cell_type": "code",
   "execution_count": 12,
   "metadata": {},
   "outputs": [
    {
     "data": {
      "text/html": [
       "<div>\n",
       "<style scoped>\n",
       "    .dataframe tbody tr th:only-of-type {\n",
       "        vertical-align: middle;\n",
       "    }\n",
       "\n",
       "    .dataframe tbody tr th {\n",
       "        vertical-align: top;\n",
       "    }\n",
       "\n",
       "    .dataframe thead th {\n",
       "        text-align: right;\n",
       "    }\n",
       "</style>\n",
       "<table border=\"1\" class=\"dataframe\">\n",
       "  <thead>\n",
       "    <tr style=\"text-align: right;\">\n",
       "      <th></th>\n",
       "      <th>0</th>\n",
       "      <th>1</th>\n",
       "      <th>2</th>\n",
       "      <th>3</th>\n",
       "      <th>4</th>\n",
       "      <th>5</th>\n",
       "      <th>6</th>\n",
       "      <th>7</th>\n",
       "      <th>8</th>\n",
       "      <th>9</th>\n",
       "      <th>10</th>\n",
       "      <th>11</th>\n",
       "      <th>12</th>\n",
       "      <th>13</th>\n",
       "      <th>14</th>\n",
       "      <th>15</th>\n",
       "    </tr>\n",
       "  </thead>\n",
       "  <tbody>\n",
       "    <tr>\n",
       "      <th>Word</th>\n",
       "      <td>This</td>\n",
       "      <td>NLP</td>\n",
       "      <td>Workshop</td>\n",
       "      <td>is</td>\n",
       "      <td>being</td>\n",
       "      <td>organized</td>\n",
       "      <td>by</td>\n",
       "      <td>Analytics</td>\n",
       "      <td>Vidhya</td>\n",
       "      <td>as</td>\n",
       "      <td>part</td>\n",
       "      <td>of</td>\n",
       "      <td>the</td>\n",
       "      <td>DataHack</td>\n",
       "      <td>Summit</td>\n",
       "      <td>2018</td>\n",
       "    </tr>\n",
       "    <tr>\n",
       "      <th>POS tag</th>\n",
       "      <td>DT</td>\n",
       "      <td>NNP</td>\n",
       "      <td>NNP</td>\n",
       "      <td>VBZ</td>\n",
       "      <td>VBG</td>\n",
       "      <td>VBN</td>\n",
       "      <td>IN</td>\n",
       "      <td>NNP</td>\n",
       "      <td>NNP</td>\n",
       "      <td>IN</td>\n",
       "      <td>NN</td>\n",
       "      <td>IN</td>\n",
       "      <td>DT</td>\n",
       "      <td>NNP</td>\n",
       "      <td>NNP</td>\n",
       "      <td>CD</td>\n",
       "    </tr>\n",
       "    <tr>\n",
       "      <th>Tag type</th>\n",
       "      <td>DET</td>\n",
       "      <td>PROPN</td>\n",
       "      <td>PROPN</td>\n",
       "      <td>VERB</td>\n",
       "      <td>VERB</td>\n",
       "      <td>VERB</td>\n",
       "      <td>ADP</td>\n",
       "      <td>PROPN</td>\n",
       "      <td>PROPN</td>\n",
       "      <td>ADP</td>\n",
       "      <td>NOUN</td>\n",
       "      <td>ADP</td>\n",
       "      <td>DET</td>\n",
       "      <td>PROPN</td>\n",
       "      <td>PROPN</td>\n",
       "      <td>NUM</td>\n",
       "    </tr>\n",
       "  </tbody>\n",
       "</table>\n",
       "</div>"
      ],
      "text/plain": [
       "            0      1         2     3      4          5    6          7   \\\n",
       "Word      This    NLP  Workshop    is  being  organized   by  Analytics   \n",
       "POS tag     DT    NNP       NNP   VBZ    VBG        VBN   IN        NNP   \n",
       "Tag type   DET  PROPN     PROPN  VERB   VERB       VERB  ADP      PROPN   \n",
       "\n",
       "              8    9     10   11   12        13      14    15  \n",
       "Word      Vidhya   as  part   of  the  DataHack  Summit  2018  \n",
       "POS tag      NNP   IN    NN   IN   DT       NNP     NNP    CD  \n",
       "Tag type   PROPN  ADP  NOUN  ADP  DET     PROPN   PROPN   NUM  "
      ]
     },
     "execution_count": 12,
     "metadata": {},
     "output_type": "execute_result"
    }
   ],
   "source": [
    "pd.DataFrame(spacy_pos_tagged, \n",
    "             columns=['Word', 'POS tag', 'Tag type']).T"
   ]
  },
  {
   "cell_type": "markdown",
   "metadata": {},
   "source": [
    "## Guide to POS Tags\n",
    "\n",
    "The most common part of speech (POS) tag schemes are those developed for the Penn Treebank.\n",
    "\n",
    "| POS Tag | Description | Example |\n",
    "|---------|---------------------------------------|-----------------------------------------|\n",
    "| CC | coordinating conjunction | and |\n",
    "| CD | cardinal number | 1, third |\n",
    "| DT | determiner | the |\n",
    "| EX | existential there | there is |\n",
    "| FW | foreign word | d’hoevre |\n",
    "| IN | preposition/subordinating conjunction | in, of, like |\n",
    "| JJ | adjective | big |\n",
    "| JJR | adjective, comparative | bigger |\n",
    "| JJS | adjective, superlative | biggest |\n",
    "| LS | list marker | 1) |\n",
    "| MD | modal | could, will |\n",
    "| NN | noun, singular or mass | door |\n",
    "| NNS | noun plural | doors |\n",
    "| NNP | proper noun, singular | John |\n",
    "| NNPS | proper noun, plural | Vikings |\n",
    "| PDT | predeterminer | both the boys |\n",
    "| POS | possessive ending | friend‘s |\n",
    "| PRP | personal pronoun | I, he, it |\n",
    "| PRP\\$ | possessive pronoun | my, his |\n",
    "| RB | adverb | however, usually, naturally, here, good |\n",
    "| RBR | adverb, comparative | better |\n",
    "| RBS | adverb, superlative | best |\n",
    "| RP | particle | give up |\n",
    "| TO | to | to go, to him |\n",
    "| UH | interjection | uhhuhhuhh |\n",
    "| VB | verb, base form | take |\n",
    "| VBD | verb, past tense | took |\n",
    "| VBG | verb, gerund/present participle | taking |\n",
    "| VBN | verb, past participle | taken |\n",
    "| VBP | verb, sing. present, non-3d | take |\n",
    "| VBZ | verb, 3rd person sing. present | takes |\n",
    "| WDT | wh-determiner | which |\n",
    "| WP | wh-pronoun | who, what |\n",
    "| WP\\$ | possessive wh-pronoun | whose |\n",
    "| WRB | wh-abverb | where, when |\n",
    "\n",
    "Source: https://www.ling.upenn.edu/courses/Fall_2003/ling001/penn_treebank_pos.html"
   ]
  }
 ],
 "metadata": {
  "kernelspec": {
   "display_name": "Python 3",
   "language": "python",
   "name": "python3"
  },
  "language_info": {
   "codemirror_mode": {
    "name": "ipython",
    "version": 3
   },
   "file_extension": ".py",
   "mimetype": "text/x-python",
   "name": "python",
   "nbconvert_exporter": "python",
   "pygments_lexer": "ipython3",
   "version": "3.6.5"
  }
 },
 "nbformat": 4,
 "nbformat_minor": 2
}
